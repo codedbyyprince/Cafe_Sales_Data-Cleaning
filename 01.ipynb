{
 "cells": [
  {
   "cell_type": "markdown",
   "id": "f7cb43b1-9512-4b4e-80e8-af6beb5aab96",
   "metadata": {},
   "source": [
    "# Question\n",
    "## From the raw cafe sales data, identify the Top 10 highest-value customers (by lifetime spend), analyze how their purchase behavior differs (time of day, day of week, item preferences) compared to the average customer, and propose actionable strategies the cafe can implement to increase their loyalty or spending."
   ]
  },
  {
   "cell_type": "code",
   "execution_count": 13,
   "id": "6952363c-5429-4b4f-9254-dca6e1d67c4d",
   "metadata": {},
   "outputs": [],
   "source": [
    "import pandas as pd"
   ]
  },
  {
   "cell_type": "code",
   "execution_count": 14,
   "id": "b9211aea-fa6c-43c7-9ca5-3f8e924a1e14",
   "metadata": {},
   "outputs": [],
   "source": [
    "df = pd.read_csv('cafe_sales.csv')"
   ]
  }
 ],
 "metadata": {
  "kernelspec": {
   "display_name": "Python [conda env:base] *",
   "language": "python",
   "name": "conda-base-py"
  },
  "language_info": {
   "codemirror_mode": {
    "name": "ipython",
    "version": 3
   },
   "file_extension": ".py",
   "mimetype": "text/x-python",
   "name": "python",
   "nbconvert_exporter": "python",
   "pygments_lexer": "ipython3",
   "version": "3.13.5"
  },
  "widgets": {
   "application/vnd.jupyter.widget-state+json": {
    "state": {},
    "version_major": 2,
    "version_minor": 0
   }
  }
 },
 "nbformat": 4,
 "nbformat_minor": 5
}
